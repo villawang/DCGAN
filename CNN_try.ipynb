{
 "cells": [
  {
   "cell_type": "code",
   "execution_count": 1,
   "metadata": {
    "collapsed": true
   },
   "outputs": [],
   "source": [
    "from __future__ import division\n",
    "from pylab import *\n",
    "from scipy import io\n",
    "from sklearn import metrics\n",
    "import os\n",
    "from sys import platform\n",
    "\n",
    "%matplotlib inline"
   ]
  },
  {
   "cell_type": "code",
   "execution_count": 2,
   "metadata": {
    "collapsed": false
   },
   "outputs": [],
   "source": [
    "#load data\n",
    "SUB_ID=102\n",
    "if platform=='darwin': # mac\n",
    "    dir_abs='/Users/Villa/Google Drive/workspace/NAILS_analysis/P10X'\n",
    "    \n",
    "dir_data=dir_abs+'/p{}/'.format(SUB_ID)\n",
    "\n",
    "epoch_all=load(dir_data+'epoch_p{}.{}'.format(SUB_ID,'npy')).item()\n",
    "label_all=load(dir_data+'label_p{}.{}'.format(SUB_ID,'npy')).item()"
   ]
  },
  {
   "cell_type": "code",
   "execution_count": 3,
   "metadata": {
    "collapsed": false
   },
   "outputs": [
    {
     "name": "stdout",
     "output_type": "stream",
     "text": [
      "(1080, 32, 250)\n"
     ]
    }
   ],
   "source": [
    "# split data for training and testing\n",
    "task_ID=['INSTR','WIND1','WIND2','UAV1','UAV2','BIRD']\n",
    "task=task_ID[4]\n",
    "epoch_train=zeros([1,epoch_all[epoch_all.keys()[0]].shape[1],epoch_all[epoch_all.keys()[0]].shape[2]])\n",
    "epoch_test=zeros([1,epoch_all[epoch_all.keys()[0]].shape[1],epoch_all[epoch_all.keys()[0]].shape[2]])\n",
    "label_train=zeros(1)\n",
    "label_test=zeros(1)\n",
    "\n",
    "for block in epoch_all.keys():\n",
    "    if block.split('_')[1]==task: # 2,5,8 for testing\n",
    "        if block.split('_')[3]=='t2' or block.split('_')[3]=='t5' or block.split('_')[3]=='t8': # for testing\n",
    "            epoch_test=r_[epoch_test, epoch_all[block]]\n",
    "            label_test=r_[label_test, label_all[block]]\n",
    "        else: # for training\n",
    "            epoch_train=r_[epoch_train, epoch_all[block]]\n",
    "            label_train=r_[label_train, label_all[block]]\n",
    "    else:\n",
    "        continue\n",
    "        \n",
    "epoch_train=epoch_train[1:,:,:]\n",
    "epoch_test=epoch_test[1:,:,:]\n",
    "label_train=label_train[1:]\n",
    "label_test=label_test[1:]  \n",
    "\n",
    "\n",
    "    \n",
    "# target for 1, standard for 0    \n",
    "label_train[label_train==1]=0\n",
    "label_train[label_train==2]=1\n",
    "label_test[label_test==1]=0\n",
    "label_test[label_test==2]=1\n",
    "\n",
    "print epoch_train.shape"
   ]
  },
  {
   "cell_type": "code",
   "execution_count": 13,
   "metadata": {
    "collapsed": false
   },
   "outputs": [],
   "source": [
    "from keras.models import Sequential\n",
    "from keras.layers import convolutional as conv \n",
    "from keras.layers import core\n",
    "from keras.optimizers import SGD, Adadelta, Adagrad\n",
    "from keras import layers"
   ]
  },
  {
   "cell_type": "code",
   "execution_count": 62,
   "metadata": {
    "collapsed": false
   },
   "outputs": [
    {
     "name": "stdout",
     "output_type": "stream",
     "text": [
      "Epoch 1/10\n",
      "1080/1080 [==============================] - 0s - loss: 1.8600 - acc: 0.5148     \n",
      "Epoch 2/10\n",
      "1080/1080 [==============================] - 0s - loss: 1.4361 - acc: 0.5481     \n",
      "Epoch 3/10\n",
      "1080/1080 [==============================] - 0s - loss: 1.4013 - acc: 0.4926     \n",
      "Epoch 4/10\n",
      "1080/1080 [==============================] - 0s - loss: 1.3884 - acc: 0.4389     \n",
      "Epoch 5/10\n",
      "1080/1080 [==============================] - 0s - loss: 1.3709 - acc: 0.3852     \n",
      "Epoch 6/10\n",
      "1080/1080 [==============================] - 0s - loss: 1.3603 - acc: 0.3815     \n",
      "Epoch 7/10\n",
      "1080/1080 [==============================] - 0s - loss: 1.3540 - acc: 0.3815     \n",
      "Epoch 8/10\n",
      "1080/1080 [==============================] - 0s - loss: 1.3498 - acc: 0.3537     \n",
      "Epoch 9/10\n",
      "1080/1080 [==============================] - 0s - loss: 1.3468 - acc: 0.3778     \n",
      "Epoch 10/10\n",
      "1080/1080 [==============================] - 0s - loss: 1.3444 - acc: 0.3778     \n"
     ]
    },
    {
     "data": {
      "text/plain": [
       "<keras.callbacks.History at 0x14b45d210>"
      ]
     },
     "execution_count": 62,
     "metadata": {},
     "output_type": "execute_result"
    }
   ],
   "source": [
    "epoch_cnn_train=epoch_train.reshape(epoch_train.shape[0],1,epoch_train.shape[1],epoch_train.shape[2])\n",
    "epoch_cnn_test=epoch_test.reshape(epoch_test.shape[0],1,epoch_test.shape[1],epoch_test.shape[2])\n",
    "\n",
    "cnn = Sequential()\n",
    "\n",
    "cnn.add(conv.Conv2D(filters=8, kernel_size=(32,10), strides=(32,10), input_shape=(1,32,250), activation='sigmoid',\n",
    "       data_format='channels_first') )   \n",
    "#cnn.add(MaxPooling2D(pool_size=(5,1),strides=(2,1),border_mode='valid'))\n",
    "\n",
    "# temporal filter 1\n",
    "# cnn.add(conv.Convolution2D(10, 10,1 ,border_mode='valid',activation='sigmoid'))\n",
    "# cnn.add(conv.MaxPooling2D(pool_size=(16,1),strides=(4,1),border_mode='valid'))\n",
    "\n",
    "\n",
    "\n",
    "cnn.add(core.Flatten())\n",
    "# cnn.add(core.Dense(500, init='normal',activation='sigmoid'))\n",
    "# cnn.add(core.Dense(100,activation='sigmoid'))\n",
    "# cnn.add( core.Dropout(0.5) )\n",
    "cnn.add(core.Dense(1, activation='sigmoid'))\n",
    "\n",
    "\n",
    "\n",
    "\n",
    "sgd = SGD(lr=0.05, decay=1e-6, momentum=0.9, nesterov=True)\n",
    "cnn.compile(loss='binary_crossentropy', optimizer=sgd,metrics=['accuracy'])\n",
    "\n",
    "\n",
    "\n",
    "\n",
    "cnn.fit(epoch_cnn_train, label_train, shuffle=False,class_weight={0:1,1:19})\n",
    "\n"
   ]
  }
 ],
 "metadata": {
  "kernelspec": {
   "display_name": "Python 2",
   "language": "python",
   "name": "python2"
  },
  "language_info": {
   "codemirror_mode": {
    "name": "ipython",
    "version": 2
   },
   "file_extension": ".py",
   "mimetype": "text/x-python",
   "name": "python",
   "nbconvert_exporter": "python",
   "pygments_lexer": "ipython2",
   "version": "2.7.11"
  }
 },
 "nbformat": 4,
 "nbformat_minor": 0
}
